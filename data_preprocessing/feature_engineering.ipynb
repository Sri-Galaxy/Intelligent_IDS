{
 "cells": [
  {
   "cell_type": "markdown",
   "id": "0b048116",
   "metadata": {},
   "source": [
    "To Learn more about dataset-\n",
    "*https://github.com/HoaNP/NSL-KDD-DataSet*"
   ]
  },
  {
   "cell_type": "markdown",
   "id": "502adef4",
   "metadata": {},
   "source": [
    "#### Imports"
   ]
  },
  {
   "cell_type": "code",
   "execution_count": null,
   "id": "6af3a5cf",
   "metadata": {},
   "outputs": [],
   "source": [
    "import pandas as pd\n",
    "import numpy as np\n",
    "import matplotlib.pyplot as plt\n",
    "from sklearn.preprocessing import OneHotEncoder, StandardScaler\n",
    "from sklearn.compose import ColumnTransformer\n",
    "from sklearn.ensemble import RandomForestClassifier\n",
    "from sklearn.pipeline import Pipeline\n",
    "from sklearn.metrics import classification_report, accuracy_score"
   ]
  },
  {
   "cell_type": "code",
   "execution_count": null,
   "id": "629ebf20",
   "metadata": {},
   "outputs": [],
   "source": [
    "train = pd.read_csv(\"../data/KDDTrain.txt\", header=None)\n",
    "test  = pd.read_csv(\"../data/KDDTest.txt\", header=None)"
   ]
  },
  {
   "cell_type": "markdown",
   "id": "59361e2f",
   "metadata": {},
   "source": [
    "#### Common Pre-Processing"
   ]
  },
  {
   "cell_type": "code",
   "execution_count": null,
   "id": "d51781de",
   "metadata": {},
   "outputs": [],
   "source": [
    "feature_names = [\n",
    " 'duration','protocol_type','service','flag','src_bytes','dst_bytes','land',\n",
    " 'wrong_fragment','urgent','hot','num_failed_logins','logged_in','num_compromised',\n",
    " 'root_shell','su_attempted','num_root','num_file_creations','num_shells',\n",
    " 'num_access_files','num_outbound_cmds','is_host_login','is_guest_login','count',\n",
    " 'srv_count','serror_rate','srv_serror_rate','rerror_rate','srv_rerror_rate',\n",
    " 'same_srv_rate','diff_srv_rate','srv_diff_host_rate','dst_host_count',\n",
    " 'dst_host_srv_count','dst_host_same_srv_rate','dst_host_diff_srv_rate',\n",
    " 'dst_host_same_src_port_rate','dst_host_srv_diff_host_rate','dst_host_serror_rate',\n",
    " 'dst_host_srv_serror_rate','dst_host_rerror_rate','dst_host_srv_rerror_rate'\n",
    "]\n",
    "\n",
    "cols = feature_names + ['label', 'difficulty']\n",
    "\n",
    "train = pd.read_csv('../data/KDDTrain.txt', names=cols)\n",
    "test  = pd.read_csv('../data/KDDTest.txt',  names=cols)"
   ]
  },
  {
   "cell_type": "code",
   "execution_count": null,
   "id": "c10bfa3c",
   "metadata": {},
   "outputs": [],
   "source": [
    "train.drop('difficulty', inplace=True, axis=1)\n",
    "test.drop('difficulty', inplace=True, axis=1)"
   ]
  },
  {
   "cell_type": "markdown",
   "id": "79477647",
   "metadata": {},
   "source": [
    "#### Training Data Pre-Processing"
   ]
  },
  {
   "cell_type": "code",
   "execution_count": null,
   "id": "b750f51b",
   "metadata": {},
   "outputs": [],
   "source": [
    "train.head()"
   ]
  },
  {
   "cell_type": "code",
   "execution_count": null,
   "id": "b346e159",
   "metadata": {},
   "outputs": [],
   "source": [
    "train.info()"
   ]
  },
  {
   "cell_type": "code",
   "execution_count": null,
   "id": "61aae0aa",
   "metadata": {},
   "outputs": [],
   "source": [
    "train.isnull().sum()        # Therefore No IMPUTATIONS required..."
   ]
  },
  {
   "cell_type": "code",
   "execution_count": null,
   "id": "992c3c5c",
   "metadata": {},
   "outputs": [],
   "source": [
    "vals = train['protocol_type'].value_counts()\n",
    "vals"
   ]
  },
  {
   "cell_type": "code",
   "execution_count": null,
   "id": "f62a8188",
   "metadata": {},
   "outputs": [],
   "source": [
    "cat = train['protocol_type'].unique()\n",
    "plt.bar(cat, vals, color='salmon')\n",
    "plt.title('Protocol_Type Distribution in NSL-KDD Train Set')\n",
    "plt.xlabel('protocol_type')\n",
    "plt.ylabel('Count')\n",
    "plt.show()"
   ]
  },
  {
   "cell_type": "code",
   "execution_count": null,
   "id": "04b3c478",
   "metadata": {},
   "outputs": [],
   "source": [
    "train['label'].apply(lambda x: 'normal' if x=='normal' else 'attack').value_counts().plot(kind='bar', color=['skyblue','salmon'])\n",
    "plt.title('Label Distribution in NSL-KDD Train Set')\n",
    "plt.ylabel('Count')\n",
    "plt.show()\n"
   ]
  },
  {
   "cell_type": "markdown",
   "id": "f7836b3f",
   "metadata": {},
   "source": [
    "Since your target (normal vs attack) is well balanced, the feature-level imbalance in protocol_type (tcp > udp > icmp) is not critical to fix.\n",
    "\n",
    "Why:\n",
    "\n",
    "- Random Forests handle categorical skew reasonably well.\n",
    "\n",
    "- What matters most is the label balance, which is good in your case.\n",
    "\n",
    "- You only need to be aware that tcp dominates; the model might rely slightly more on it, but for now it’s fine."
   ]
  },
  {
   "cell_type": "code",
   "execution_count": null,
   "id": "46f68949",
   "metadata": {},
   "outputs": [],
   "source": []
  },
  {
   "cell_type": "markdown",
   "id": "4c0798bb",
   "metadata": {},
   "source": [
    "#### Test Data Pre-Processing"
   ]
  },
  {
   "cell_type": "code",
   "execution_count": null,
   "id": "1dc4a877",
   "metadata": {},
   "outputs": [],
   "source": [
    "test.head()"
   ]
  },
  {
   "cell_type": "code",
   "execution_count": null,
   "id": "d9a2737d",
   "metadata": {},
   "outputs": [],
   "source": [
    "test.info()"
   ]
  },
  {
   "cell_type": "code",
   "execution_count": null,
   "id": "83adee1c",
   "metadata": {},
   "outputs": [],
   "source": [
    "test.isnull().sum() "
   ]
  },
  {
   "cell_type": "code",
   "execution_count": null,
   "id": "7d2c3809",
   "metadata": {},
   "outputs": [],
   "source": [
    "cat = test['protocol_type'].unique()\n",
    "plt.bar(cat, vals, color='salmon')\n",
    "plt.title('Protocol_Type Distribution in NSL-KDD Test Set')\n",
    "plt.xlabel('protocol_type')\n",
    "plt.ylabel('Count')\n",
    "plt.show()"
   ]
  },
  {
   "cell_type": "code",
   "execution_count": null,
   "id": "7bf53389",
   "metadata": {},
   "outputs": [],
   "source": [
    "test['label'].apply(lambda x: 'normal' if x=='normal' else 'attack').value_counts().plot(kind='bar', color=['skyblue','salmon'])\n",
    "plt.title('Label Distribution in NSL-KDD Test Set')\n",
    "plt.ylabel('Count')\n",
    "plt.show()\n"
   ]
  },
  {
   "cell_type": "code",
   "execution_count": null,
   "id": "b4f6ce8c",
   "metadata": {},
   "outputs": [],
   "source": [
    "test['label'].apply(lambda x: 'normal' if x=='normal' else 'attack').value_counts()"
   ]
  },
  {
   "cell_type": "code",
   "execution_count": null,
   "id": "4c103715",
   "metadata": {},
   "outputs": [],
   "source": []
  }
 ],
 "metadata": {
  "kernelspec": {
   "display_name": ".venv",
   "language": "python",
   "name": "python3"
  },
  "language_info": {
   "codemirror_mode": {
    "name": "ipython",
    "version": 3
   },
   "file_extension": ".py",
   "mimetype": "text/x-python",
   "name": "python",
   "nbconvert_exporter": "python",
   "pygments_lexer": "ipython3",
   "version": "3.12.7"
  }
 },
 "nbformat": 4,
 "nbformat_minor": 5
}
